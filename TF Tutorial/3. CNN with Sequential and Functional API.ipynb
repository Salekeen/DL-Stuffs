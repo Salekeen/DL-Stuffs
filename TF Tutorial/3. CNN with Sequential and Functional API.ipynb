{
 "cells": [
  {
   "cell_type": "markdown",
   "metadata": {},
   "source": [
    "importing all the dependencies first"
   ]
  },
  {
   "cell_type": "code",
   "execution_count": 5,
   "metadata": {},
   "outputs": [],
   "source": [
    "import os\n",
    "os.environ['TF_CPP_MIN_LOG_LEVEL']='2'\n",
    "\n",
    "import tensorflow as tf\n",
    "from tensorflow import keras\n",
    "from tensorflow.keras import layers\n",
    "from tensorflow.keras.datasets import cifar10"
   ]
  },
  {
   "cell_type": "markdown",
   "metadata": {},
   "source": [
    "DATASET:\n",
    "- 50k train images\n",
    "- 10k test images\n",
    "- 32*32 pixels RGB (meaning 3 channels)"
   ]
  },
  {
   "cell_type": "code",
   "execution_count": 6,
   "metadata": {},
   "outputs": [],
   "source": [
    "# loading the dataset\n",
    "(x_train,y_train), (x_test,y_test) = cifar10.load_data()\n",
    "# normalize and convert type\n",
    "x_train = x_train.astype(\"float32\")/255.0\n",
    "x_test = x_test.astype(\"float32\")/255.0"
   ]
  },
  {
   "cell_type": "markdown",
   "metadata": {},
   "source": [
    "- as we are using CNN, and we want spatial information to be preserved, we dont want to flatten our input.\n",
    "- thus we can keep our input shape to (32,32,3)"
   ]
  },
  {
   "cell_type": "markdown",
   "metadata": {},
   "source": [
    "#### Sequential Model"
   ]
  },
  {
   "cell_type": "markdown",
   "metadata": {},
   "source": [
    "Building the model"
   ]
  },
  {
   "cell_type": "code",
   "execution_count": 7,
   "metadata": {},
   "outputs": [],
   "source": [
    "model = keras.Sequential(\n",
    "    [\n",
    "        keras.Input(shape=(32,32,3)),\n",
    "        layers.Conv2D(32,3,padding='valid',activation='relu'),\n",
    "        layers.MaxPooling2D(pool_size=(2,2)),\n",
    "        layers.Conv2D(64,3,activation='relu'),\n",
    "        layers.MaxPooling2D(),\n",
    "        layers.Conv2D(128,3,activation='relu'),\n",
    "\n",
    "        layers.Flatten(),\n",
    "        layers.Dense(64,activation='relu'),\n",
    "        layers.Dense(10)\n",
    "    ]\n",
    ")"
   ]
  },
  {
   "cell_type": "code",
   "execution_count": 8,
   "metadata": {},
   "outputs": [
    {
     "name": "stdout",
     "output_type": "stream",
     "text": [
      "Model: \"sequential_1\"\n",
      "_________________________________________________________________\n",
      " Layer (type)                Output Shape              Param #   \n",
      "=================================================================\n",
      " conv2d_3 (Conv2D)           (None, 30, 30, 32)        896       \n",
      "                                                                 \n",
      " max_pooling2d_2 (MaxPooling  (None, 15, 15, 32)       0         \n",
      " 2D)                                                             \n",
      "                                                                 \n",
      " conv2d_4 (Conv2D)           (None, 13, 13, 64)        18496     \n",
      "                                                                 \n",
      " max_pooling2d_3 (MaxPooling  (None, 6, 6, 64)         0         \n",
      " 2D)                                                             \n",
      "                                                                 \n",
      " conv2d_5 (Conv2D)           (None, 4, 4, 128)         73856     \n",
      "                                                                 \n",
      " flatten_1 (Flatten)         (None, 2048)              0         \n",
      "                                                                 \n",
      " dense_2 (Dense)             (None, 64)                131136    \n",
      "                                                                 \n",
      " dense_3 (Dense)             (None, 10)                650       \n",
      "                                                                 \n",
      "=================================================================\n",
      "Total params: 225,034\n",
      "Trainable params: 225,034\n",
      "Non-trainable params: 0\n",
      "_________________________________________________________________\n"
     ]
    }
   ],
   "source": [
    "model.summary()"
   ]
  },
  {
   "cell_type": "markdown",
   "metadata": {},
   "source": [
    "Compiling the model"
   ]
  },
  {
   "cell_type": "code",
   "execution_count": 11,
   "metadata": {},
   "outputs": [],
   "source": [
    "model.compile(\n",
    "    loss = keras.losses.SparseCategoricalCrossentropy(from_logits=True),\n",
    "    optimizer = keras.optimizers.Adam(learning_rate=3e-4),\n",
    "    metrics = ['accuracy']\n",
    ")"
   ]
  },
  {
   "cell_type": "markdown",
   "metadata": {},
   "source": [
    "Training the model"
   ]
  },
  {
   "cell_type": "code",
   "execution_count": 12,
   "metadata": {},
   "outputs": [
    {
     "name": "stdout",
     "output_type": "stream",
     "text": [
      "Epoch 1/10\n"
     ]
    },
    {
     "name": "stderr",
     "output_type": "stream",
     "text": [
      "2022-05-04 11:23:00.910470: W tensorflow/core/framework/cpu_allocator_impl.cc:82] Allocation of 614400000 exceeds 10% of free system memory.\n"
     ]
    },
    {
     "name": "stdout",
     "output_type": "stream",
     "text": [
      "782/782 - 17s - loss: 1.6796 - accuracy: 0.3885 - 17s/epoch - 22ms/step\n",
      "Epoch 2/10\n",
      "782/782 - 17s - loss: 1.3428 - accuracy: 0.5206 - 17s/epoch - 22ms/step\n",
      "Epoch 3/10\n",
      "782/782 - 18s - loss: 1.2153 - accuracy: 0.5701 - 18s/epoch - 22ms/step\n",
      "Epoch 4/10\n",
      "782/782 - 19s - loss: 1.1216 - accuracy: 0.6071 - 19s/epoch - 25ms/step\n",
      "Epoch 5/10\n",
      "782/782 - 20s - loss: 1.0492 - accuracy: 0.6325 - 20s/epoch - 26ms/step\n",
      "Epoch 6/10\n",
      "782/782 - 18s - loss: 0.9901 - accuracy: 0.6538 - 18s/epoch - 23ms/step\n",
      "Epoch 7/10\n",
      "782/782 - 17s - loss: 0.9327 - accuracy: 0.6759 - 17s/epoch - 22ms/step\n",
      "Epoch 8/10\n",
      "782/782 - 17s - loss: 0.8909 - accuracy: 0.6914 - 17s/epoch - 22ms/step\n",
      "Epoch 9/10\n",
      "782/782 - 17s - loss: 0.8518 - accuracy: 0.7048 - 17s/epoch - 22ms/step\n",
      "Epoch 10/10\n",
      "782/782 - 17s - loss: 0.8116 - accuracy: 0.7206 - 17s/epoch - 21ms/step\n"
     ]
    },
    {
     "data": {
      "text/plain": [
       "<keras.callbacks.History at 0x7f206ac23a30>"
      ]
     },
     "execution_count": 12,
     "metadata": {},
     "output_type": "execute_result"
    }
   ],
   "source": [
    "model.fit(x_train,y_train,batch_size=64,epochs=10,verbose=2)"
   ]
  },
  {
   "cell_type": "code",
   "execution_count": null,
   "metadata": {},
   "outputs": [],
   "source": []
  }
 ],
 "metadata": {
  "interpreter": {
   "hash": "6f2633947071d0c530ad3c99a8d87f7cecc29e8d49a0e8454cfd238047c3ac35"
  },
  "kernelspec": {
   "display_name": "Python 3.9.7 ('base')",
   "language": "python",
   "name": "python3"
  },
  "language_info": {
   "codemirror_mode": {
    "name": "ipython",
    "version": 3
   },
   "file_extension": ".py",
   "mimetype": "text/x-python",
   "name": "python",
   "nbconvert_exporter": "python",
   "pygments_lexer": "ipython3",
   "version": "3.9.12"
  },
  "orig_nbformat": 4
 },
 "nbformat": 4,
 "nbformat_minor": 2
}
